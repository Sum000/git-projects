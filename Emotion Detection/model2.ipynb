{
 "cells": [
  {
   "cell_type": "code",
   "execution_count": 1,
   "id": "1210e153-cb60-4e7d-934b-8c5316819cf4",
   "metadata": {},
   "outputs": [],
   "source": [
    "from tensorflow.keras.preprocessing.image import load_img, img_to_array\n",
    "from tensorflow.keras.utils import to_categorical\n",
    "from tensorflow.keras.models import Sequential\n",
    "from tensorflow.keras.layers import Dense, Conv2D, Dropout, Flatten, MaxPooling2D\n",
    "import os\n",
    "import pandas as pd\n",
    "import numpy as np\n",
    "from tqdm.notebook import tqdm"
   ]
  },
  {
   "cell_type": "code",
   "execution_count": 2,
   "id": "a5a7e52d-0f6d-4c29-a275-4da76101f174",
   "metadata": {},
   "outputs": [],
   "source": [
    "TRAIN_DIR = 'images/train'\n",
    "TEST_DIR = 'images/test'"
   ]
  },
  {
   "cell_type": "code",
   "execution_count": 3,
   "id": "5fb3b3fd-1db9-4d8c-8b55-31a3285cc67b",
   "metadata": {},
   "outputs": [],
   "source": [
    "def create_dataframe(dir):\n",
    "    image_paths = []\n",
    "    labels = []\n",
    "    for label in os.listdir(dir):\n",
    "        for imagename in os.listdir(os.path.join(dir, label)):\n",
    "            image_paths.append(os.path.join(dir, label, imagename))\n",
    "            labels.append(label)\n",
    "        print(label, \"completed\")\n",
    "    return image_paths, labels"
   ]
  },
  {
   "cell_type": "code",
   "execution_count": 4,
   "id": "cda0b6ac-9dce-4431-ab34-44e0846de6ff",
   "metadata": {},
   "outputs": [
    {
     "name": "stdout",
     "output_type": "stream",
     "text": [
      "angry completed\n",
      "disgust completed\n",
      "fear completed\n",
      "happy completed\n",
      "neutral completed\n",
      "sad completed\n",
      "surprise completed\n",
      "angry completed\n",
      "disgust completed\n",
      "fear completed\n",
      "happy completed\n",
      "neutral completed\n",
      "sad completed\n",
      "surprise completed\n"
     ]
    }
   ],
   "source": [
    "train_paths, train_labels = create_dataframe(TRAIN_DIR)\n",
    "train_df = pd.DataFrame({'image': train_paths, 'label': train_labels})\n",
    "test_paths, test_labels = create_dataframe(TEST_DIR)\n",
    "test_df = pd.DataFrame({'image': test_paths, 'label': test_labels})"
   ]
  },
  {
   "cell_type": "code",
   "execution_count": 5,
   "id": "52940ea4-9432-454b-bc44-0b80b857f2e1",
   "metadata": {},
   "outputs": [],
   "source": [
    "def extract_features(images):\n",
    "    features = []\n",
    "    for image_path in tqdm(images):\n",
    "        img = load_img(image_path, color_mode='grayscale', target_size=(48, 48))\n",
    "        img_array = img_to_array(img)\n",
    "        features.append(img_array)\n",
    "    features = np.array(features)\n",
    "    return features"
   ]
  },
  {
   "cell_type": "code",
   "execution_count": 6,
   "id": "27944f28-59bd-4ea5-b946-32705008775d",
   "metadata": {},
   "outputs": [
    {
     "data": {
      "application/vnd.jupyter.widget-view+json": {
       "model_id": "99a7a776abae4000b1b0c8a6cd417204",
       "version_major": 2,
       "version_minor": 0
      },
      "text/plain": [
       "  0%|          | 0/28821 [00:00<?, ?it/s]"
      ]
     },
     "metadata": {},
     "output_type": "display_data"
    },
    {
     "data": {
      "application/vnd.jupyter.widget-view+json": {
       "model_id": "016d7dd217b544408d8001b82a420b46",
       "version_major": 2,
       "version_minor": 0
      },
      "text/plain": [
       "  0%|          | 0/7066 [00:00<?, ?it/s]"
      ]
     },
     "metadata": {},
     "output_type": "display_data"
    }
   ],
   "source": [
    "x_train = extract_features(train_df['image']) / 255.0\n",
    "x_test = extract_features(test_df['image']) / 255.0"
   ]
  },
  {
   "cell_type": "code",
   "execution_count": 10,
   "id": "e4b34421-4332-4d5d-88b0-025b6fee6f3f",
   "metadata": {},
   "outputs": [],
   "source": [
    "from sklearn.preprocessing import LabelEncoder\n",
    "label_encoder = LabelEncoder()\n",
    "y_train = to_categorical(label_encoder.fit_transform(train_df['label']))\n",
    "y_test = to_categorical(label_encoder.transform(test_df['label']))"
   ]
  },
  {
   "cell_type": "code",
   "execution_count": 11,
   "id": "b805b490-8e51-4713-a280-5fc231343bc7",
   "metadata": {
    "scrolled": true
   },
   "outputs": [
    {
     "name": "stderr",
     "output_type": "stream",
     "text": [
      "C:\\Users\\bsumi\\AppData\\Local\\Programs\\Python\\Python311\\Lib\\site-packages\\keras\\src\\layers\\convolutional\\base_conv.py:107: UserWarning: Do not pass an `input_shape`/`input_dim` argument to a layer. When using Sequential models, prefer using an `Input(shape)` object as the first layer in the model instead.\n",
      "  super().__init__(activity_regularizer=activity_regularizer, **kwargs)\n"
     ]
    }
   ],
   "source": [
    "model = Sequential()\n",
    "model.add(Conv2D(32, kernel_size=(3, 3), activation='relu', input_shape=(48, 48, 1)))\n",
    "model.add(MaxPooling2D(pool_size=(2, 2)))\n",
    "model.add(Dropout(0.25))\n",
    "model.add(Conv2D(64, kernel_size=(3, 3), activation='relu'))\n",
    "model.add(MaxPooling2D(pool_size=(2, 2)))\n",
    "model.add(Dropout(0.25))\n",
    "model.add(Conv2D(128, kernel_size=(3, 3), activation='relu'))\n",
    "model.add(MaxPooling2D(pool_size=(2, 2)))\n",
    "model.add(Dropout(0.25))\n",
    "model.add(Flatten())\n",
    "model.add(Dense(512, activation='relu'))\n",
    "model.add(Dropout(0.5))\n",
    "model.add(Dense(7, activation='softmax'))"
   ]
  },
  {
   "cell_type": "code",
   "execution_count": 12,
   "id": "4c9af58a-f373-4947-be74-c8e737a93510",
   "metadata": {},
   "outputs": [],
   "source": [
    "model.compile(optimizer='adam', loss='categorical_crossentropy', metrics=['accuracy'])"
   ]
  },
  {
   "cell_type": "code",
   "execution_count": 57,
   "id": "d9011c4f-7533-4f87-8f40-8cd1716cb5b8",
   "metadata": {},
   "outputs": [
    {
     "name": "stdout",
     "output_type": "stream",
     "text": [
      "Epoch 1/100\n",
      "\u001b[1m226/226\u001b[0m \u001b[32m━━━━━━━━━━━━━━━━━━━━\u001b[0m\u001b[37m\u001b[0m \u001b[1m24s\u001b[0m 100ms/step - accuracy: 0.8235 - loss: 0.4841 - val_accuracy: 0.6196 - val_loss: 1.2328\n",
      "Epoch 2/100\n",
      "\u001b[1m226/226\u001b[0m \u001b[32m━━━━━━━━━━━━━━━━━━━━\u001b[0m\u001b[37m\u001b[0m \u001b[1m21s\u001b[0m 95ms/step - accuracy: 0.8255 - loss: 0.4743 - val_accuracy: 0.6226 - val_loss: 1.2417\n",
      "Epoch 3/100\n",
      "\u001b[1m226/226\u001b[0m \u001b[32m━━━━━━━━━━━━━━━━━━━━\u001b[0m\u001b[37m\u001b[0m \u001b[1m22s\u001b[0m 99ms/step - accuracy: 0.8212 - loss: 0.4851 - val_accuracy: 0.6219 - val_loss: 1.2434\n",
      "Epoch 4/100\n",
      "\u001b[1m226/226\u001b[0m \u001b[32m━━━━━━━━━━━━━━━━━━━━\u001b[0m\u001b[37m\u001b[0m \u001b[1m22s\u001b[0m 98ms/step - accuracy: 0.8244 - loss: 0.4714 - val_accuracy: 0.6209 - val_loss: 1.2423\n",
      "Epoch 5/100\n",
      "\u001b[1m226/226\u001b[0m \u001b[32m━━━━━━━━━━━━━━━━━━━━\u001b[0m\u001b[37m\u001b[0m \u001b[1m22s\u001b[0m 99ms/step - accuracy: 0.8263 - loss: 0.4785 - val_accuracy: 0.6175 - val_loss: 1.2562\n",
      "Epoch 6/100\n",
      "\u001b[1m226/226\u001b[0m \u001b[32m━━━━━━━━━━━━━━━━━━━━\u001b[0m\u001b[37m\u001b[0m \u001b[1m22s\u001b[0m 99ms/step - accuracy: 0.8289 - loss: 0.4685 - val_accuracy: 0.6187 - val_loss: 1.2205\n",
      "Epoch 7/100\n",
      "\u001b[1m226/226\u001b[0m \u001b[32m━━━━━━━━━━━━━━━━━━━━\u001b[0m\u001b[37m\u001b[0m \u001b[1m23s\u001b[0m 100ms/step - accuracy: 0.8294 - loss: 0.4647 - val_accuracy: 0.6199 - val_loss: 1.2546\n",
      "Epoch 8/100\n",
      "\u001b[1m226/226\u001b[0m \u001b[32m━━━━━━━━━━━━━━━━━━━━\u001b[0m\u001b[37m\u001b[0m \u001b[1m23s\u001b[0m 99ms/step - accuracy: 0.8315 - loss: 0.4643 - val_accuracy: 0.6219 - val_loss: 1.2371\n",
      "Epoch 9/100\n",
      "\u001b[1m226/226\u001b[0m \u001b[32m━━━━━━━━━━━━━━━━━━━━\u001b[0m\u001b[37m\u001b[0m \u001b[1m22s\u001b[0m 99ms/step - accuracy: 0.8331 - loss: 0.4581 - val_accuracy: 0.6193 - val_loss: 1.2367\n",
      "Epoch 10/100\n",
      "\u001b[1m226/226\u001b[0m \u001b[32m━━━━━━━━━━━━━━━━━━━━\u001b[0m\u001b[37m\u001b[0m \u001b[1m22s\u001b[0m 99ms/step - accuracy: 0.8332 - loss: 0.4670 - val_accuracy: 0.6193 - val_loss: 1.2526\n",
      "Epoch 11/100\n",
      "\u001b[1m226/226\u001b[0m \u001b[32m━━━━━━━━━━━━━━━━━━━━\u001b[0m\u001b[37m\u001b[0m \u001b[1m23s\u001b[0m 101ms/step - accuracy: 0.8321 - loss: 0.4655 - val_accuracy: 0.6235 - val_loss: 1.2681\n",
      "Epoch 12/100\n",
      "\u001b[1m226/226\u001b[0m \u001b[32m━━━━━━━━━━━━━━━━━━━━\u001b[0m\u001b[37m\u001b[0m \u001b[1m26s\u001b[0m 116ms/step - accuracy: 0.8403 - loss: 0.4422 - val_accuracy: 0.6206 - val_loss: 1.2733\n",
      "Epoch 13/100\n",
      "\u001b[1m226/226\u001b[0m \u001b[32m━━━━━━━━━━━━━━━━━━━━\u001b[0m\u001b[37m\u001b[0m \u001b[1m27s\u001b[0m 120ms/step - accuracy: 0.8350 - loss: 0.4641 - val_accuracy: 0.6247 - val_loss: 1.2494\n",
      "Epoch 14/100\n",
      "\u001b[1m226/226\u001b[0m \u001b[32m━━━━━━━━━━━━━━━━━━━━\u001b[0m\u001b[37m\u001b[0m \u001b[1m38s\u001b[0m 104ms/step - accuracy: 0.8367 - loss: 0.4525 - val_accuracy: 0.6231 - val_loss: 1.2487\n",
      "Epoch 15/100\n",
      "\u001b[1m226/226\u001b[0m \u001b[32m━━━━━━━━━━━━━━━━━━━━\u001b[0m\u001b[37m\u001b[0m \u001b[1m40s\u001b[0m 101ms/step - accuracy: 0.8336 - loss: 0.4497 - val_accuracy: 0.6224 - val_loss: 1.2498\n",
      "Epoch 16/100\n",
      "\u001b[1m226/226\u001b[0m \u001b[32m━━━━━━━━━━━━━━━━━━━━\u001b[0m\u001b[37m\u001b[0m \u001b[1m25s\u001b[0m 111ms/step - accuracy: 0.8347 - loss: 0.4541 - val_accuracy: 0.6189 - val_loss: 1.2569\n",
      "Epoch 17/100\n",
      "\u001b[1m226/226\u001b[0m \u001b[32m━━━━━━━━━━━━━━━━━━━━\u001b[0m\u001b[37m\u001b[0m \u001b[1m26s\u001b[0m 115ms/step - accuracy: 0.8340 - loss: 0.4528 - val_accuracy: 0.6189 - val_loss: 1.2665\n",
      "Epoch 18/100\n",
      "\u001b[1m226/226\u001b[0m \u001b[32m━━━━━━━━━━━━━━━━━━━━\u001b[0m\u001b[37m\u001b[0m \u001b[1m26s\u001b[0m 116ms/step - accuracy: 0.8361 - loss: 0.4480 - val_accuracy: 0.6231 - val_loss: 1.2394\n",
      "Epoch 19/100\n",
      "\u001b[1m226/226\u001b[0m \u001b[32m━━━━━━━━━━━━━━━━━━━━\u001b[0m\u001b[37m\u001b[0m \u001b[1m26s\u001b[0m 114ms/step - accuracy: 0.8357 - loss: 0.4575 - val_accuracy: 0.6240 - val_loss: 1.2689\n",
      "Epoch 20/100\n",
      "\u001b[1m226/226\u001b[0m \u001b[32m━━━━━━━━━━━━━━━━━━━━\u001b[0m\u001b[37m\u001b[0m \u001b[1m24s\u001b[0m 108ms/step - accuracy: 0.8412 - loss: 0.4371 - val_accuracy: 0.6223 - val_loss: 1.2644\n",
      "Epoch 21/100\n",
      "\u001b[1m226/226\u001b[0m \u001b[32m━━━━━━━━━━━━━━━━━━━━\u001b[0m\u001b[37m\u001b[0m \u001b[1m25s\u001b[0m 108ms/step - accuracy: 0.8409 - loss: 0.4457 - val_accuracy: 0.6206 - val_loss: 1.2621\n",
      "Epoch 22/100\n",
      "\u001b[1m226/226\u001b[0m \u001b[32m━━━━━━━━━━━━━━━━━━━━\u001b[0m\u001b[37m\u001b[0m \u001b[1m25s\u001b[0m 109ms/step - accuracy: 0.8386 - loss: 0.4456 - val_accuracy: 0.6176 - val_loss: 1.2445\n",
      "Epoch 23/100\n",
      "\u001b[1m226/226\u001b[0m \u001b[32m━━━━━━━━━━━━━━━━━━━━\u001b[0m\u001b[37m\u001b[0m \u001b[1m25s\u001b[0m 113ms/step - accuracy: 0.8406 - loss: 0.4412 - val_accuracy: 0.6219 - val_loss: 1.2892\n",
      "Epoch 24/100\n",
      "\u001b[1m226/226\u001b[0m \u001b[32m━━━━━━━━━━━━━━━━━━━━\u001b[0m\u001b[37m\u001b[0m \u001b[1m25s\u001b[0m 112ms/step - accuracy: 0.8364 - loss: 0.4542 - val_accuracy: 0.6210 - val_loss: 1.2798\n",
      "Epoch 25/100\n",
      "\u001b[1m226/226\u001b[0m \u001b[32m━━━━━━━━━━━━━━━━━━━━\u001b[0m\u001b[37m\u001b[0m \u001b[1m25s\u001b[0m 111ms/step - accuracy: 0.8409 - loss: 0.4369 - val_accuracy: 0.6220 - val_loss: 1.2648\n",
      "Epoch 26/100\n",
      "\u001b[1m226/226\u001b[0m \u001b[32m━━━━━━━━━━━━━━━━━━━━\u001b[0m\u001b[37m\u001b[0m \u001b[1m26s\u001b[0m 113ms/step - accuracy: 0.8459 - loss: 0.4302 - val_accuracy: 0.6206 - val_loss: 1.2693\n",
      "Epoch 27/100\n",
      "\u001b[1m226/226\u001b[0m \u001b[32m━━━━━━━━━━━━━━━━━━━━\u001b[0m\u001b[37m\u001b[0m \u001b[1m28s\u001b[0m 122ms/step - accuracy: 0.8446 - loss: 0.4382 - val_accuracy: 0.6230 - val_loss: 1.2779\n",
      "Epoch 28/100\n",
      "\u001b[1m226/226\u001b[0m \u001b[32m━━━━━━━━━━━━━━━━━━━━\u001b[0m\u001b[37m\u001b[0m \u001b[1m26s\u001b[0m 116ms/step - accuracy: 0.8428 - loss: 0.4312 - val_accuracy: 0.6247 - val_loss: 1.2766\n",
      "Epoch 29/100\n",
      "\u001b[1m226/226\u001b[0m \u001b[32m━━━━━━━━━━━━━━━━━━━━\u001b[0m\u001b[37m\u001b[0m \u001b[1m26s\u001b[0m 113ms/step - accuracy: 0.8450 - loss: 0.4303 - val_accuracy: 0.6251 - val_loss: 1.2807\n",
      "Epoch 30/100\n",
      "\u001b[1m226/226\u001b[0m \u001b[32m━━━━━━━━━━━━━━━━━━━━\u001b[0m\u001b[37m\u001b[0m \u001b[1m29s\u001b[0m 129ms/step - accuracy: 0.8417 - loss: 0.4311 - val_accuracy: 0.6216 - val_loss: 1.2625\n",
      "Epoch 31/100\n",
      "\u001b[1m226/226\u001b[0m \u001b[32m━━━━━━━━━━━━━━━━━━━━\u001b[0m\u001b[37m\u001b[0m \u001b[1m29s\u001b[0m 127ms/step - accuracy: 0.8410 - loss: 0.4322 - val_accuracy: 0.6196 - val_loss: 1.2689\n",
      "Epoch 32/100\n",
      "\u001b[1m226/226\u001b[0m \u001b[32m━━━━━━━━━━━━━━━━━━━━\u001b[0m\u001b[37m\u001b[0m \u001b[1m29s\u001b[0m 128ms/step - accuracy: 0.8478 - loss: 0.4152 - val_accuracy: 0.6220 - val_loss: 1.2705\n",
      "Epoch 33/100\n",
      "\u001b[1m226/226\u001b[0m \u001b[32m━━━━━━━━━━━━━━━━━━━━\u001b[0m\u001b[37m\u001b[0m \u001b[1m27s\u001b[0m 120ms/step - accuracy: 0.8483 - loss: 0.4200 - val_accuracy: 0.6223 - val_loss: 1.2798\n",
      "Epoch 34/100\n",
      "\u001b[1m226/226\u001b[0m \u001b[32m━━━━━━━━━━━━━━━━━━━━\u001b[0m\u001b[37m\u001b[0m \u001b[1m25s\u001b[0m 112ms/step - accuracy: 0.8468 - loss: 0.4201 - val_accuracy: 0.6226 - val_loss: 1.2836\n",
      "Epoch 35/100\n",
      "\u001b[1m226/226\u001b[0m \u001b[32m━━━━━━━━━━━━━━━━━━━━\u001b[0m\u001b[37m\u001b[0m \u001b[1m26s\u001b[0m 113ms/step - accuracy: 0.8437 - loss: 0.4281 - val_accuracy: 0.6210 - val_loss: 1.2866\n",
      "Epoch 36/100\n",
      "\u001b[1m226/226\u001b[0m \u001b[32m━━━━━━━━━━━━━━━━━━━━\u001b[0m\u001b[37m\u001b[0m \u001b[1m25s\u001b[0m 112ms/step - accuracy: 0.8508 - loss: 0.4178 - val_accuracy: 0.6144 - val_loss: 1.2870\n",
      "Epoch 37/100\n",
      "\u001b[1m226/226\u001b[0m \u001b[32m━━━━━━━━━━━━━━━━━━━━\u001b[0m\u001b[37m\u001b[0m \u001b[1m25s\u001b[0m 112ms/step - accuracy: 0.8552 - loss: 0.4101 - val_accuracy: 0.6206 - val_loss: 1.2807\n",
      "Epoch 38/100\n",
      "\u001b[1m226/226\u001b[0m \u001b[32m━━━━━━━━━━━━━━━━━━━━\u001b[0m\u001b[37m\u001b[0m \u001b[1m25s\u001b[0m 111ms/step - accuracy: 0.8465 - loss: 0.4198 - val_accuracy: 0.6179 - val_loss: 1.2791\n",
      "Epoch 39/100\n",
      "\u001b[1m226/226\u001b[0m \u001b[32m━━━━━━━━━━━━━━━━━━━━\u001b[0m\u001b[37m\u001b[0m \u001b[1m25s\u001b[0m 112ms/step - accuracy: 0.8480 - loss: 0.4242 - val_accuracy: 0.6219 - val_loss: 1.2549\n",
      "Epoch 40/100\n",
      "\u001b[1m226/226\u001b[0m \u001b[32m━━━━━━━━━━━━━━━━━━━━\u001b[0m\u001b[37m\u001b[0m \u001b[1m27s\u001b[0m 119ms/step - accuracy: 0.8517 - loss: 0.4186 - val_accuracy: 0.6226 - val_loss: 1.2742\n",
      "Epoch 41/100\n",
      "\u001b[1m226/226\u001b[0m \u001b[32m━━━━━━━━━━━━━━━━━━━━\u001b[0m\u001b[37m\u001b[0m \u001b[1m26s\u001b[0m 113ms/step - accuracy: 0.8475 - loss: 0.4194 - val_accuracy: 0.6257 - val_loss: 1.2979\n",
      "Epoch 42/100\n",
      "\u001b[1m226/226\u001b[0m \u001b[32m━━━━━━━━━━━━━━━━━━━━\u001b[0m\u001b[37m\u001b[0m \u001b[1m25s\u001b[0m 112ms/step - accuracy: 0.8595 - loss: 0.4020 - val_accuracy: 0.6261 - val_loss: 1.3073\n",
      "Epoch 43/100\n",
      "\u001b[1m226/226\u001b[0m \u001b[32m━━━━━━━━━━━━━━━━━━━━\u001b[0m\u001b[37m\u001b[0m \u001b[1m26s\u001b[0m 113ms/step - accuracy: 0.8587 - loss: 0.3975 - val_accuracy: 0.6244 - val_loss: 1.2796\n",
      "Epoch 44/100\n",
      "\u001b[1m226/226\u001b[0m \u001b[32m━━━━━━━━━━━━━━━━━━━━\u001b[0m\u001b[37m\u001b[0m \u001b[1m25s\u001b[0m 112ms/step - accuracy: 0.8571 - loss: 0.3965 - val_accuracy: 0.6260 - val_loss: 1.2822\n",
      "Epoch 45/100\n",
      "\u001b[1m226/226\u001b[0m \u001b[32m━━━━━━━━━━━━━━━━━━━━\u001b[0m\u001b[37m\u001b[0m \u001b[1m25s\u001b[0m 112ms/step - accuracy: 0.8468 - loss: 0.4115 - val_accuracy: 0.6277 - val_loss: 1.2937\n",
      "Epoch 46/100\n",
      "\u001b[1m226/226\u001b[0m \u001b[32m━━━━━━━━━━━━━━━━━━━━\u001b[0m\u001b[37m\u001b[0m \u001b[1m26s\u001b[0m 113ms/step - accuracy: 0.8457 - loss: 0.4239 - val_accuracy: 0.6244 - val_loss: 1.2960\n",
      "Epoch 47/100\n",
      "\u001b[1m226/226\u001b[0m \u001b[32m━━━━━━━━━━━━━━━━━━━━\u001b[0m\u001b[37m\u001b[0m \u001b[1m25s\u001b[0m 111ms/step - accuracy: 0.8520 - loss: 0.4022 - val_accuracy: 0.6251 - val_loss: 1.2870\n",
      "Epoch 48/100\n",
      "\u001b[1m226/226\u001b[0m \u001b[32m━━━━━━━━━━━━━━━━━━━━\u001b[0m\u001b[37m\u001b[0m \u001b[1m25s\u001b[0m 112ms/step - accuracy: 0.8537 - loss: 0.3936 - val_accuracy: 0.6268 - val_loss: 1.2645\n",
      "Epoch 49/100\n",
      "\u001b[1m226/226\u001b[0m \u001b[32m━━━━━━━━━━━━━━━━━━━━\u001b[0m\u001b[37m\u001b[0m \u001b[1m26s\u001b[0m 114ms/step - accuracy: 0.8493 - loss: 0.4203 - val_accuracy: 0.6257 - val_loss: 1.3107\n",
      "Epoch 50/100\n",
      "\u001b[1m226/226\u001b[0m \u001b[32m━━━━━━━━━━━━━━━━━━━━\u001b[0m\u001b[37m\u001b[0m \u001b[1m26s\u001b[0m 115ms/step - accuracy: 0.8550 - loss: 0.3901 - val_accuracy: 0.6197 - val_loss: 1.2667\n",
      "Epoch 51/100\n",
      "\u001b[1m226/226\u001b[0m \u001b[32m━━━━━━━━━━━━━━━━━━━━\u001b[0m\u001b[37m\u001b[0m \u001b[1m26s\u001b[0m 113ms/step - accuracy: 0.8534 - loss: 0.4009 - val_accuracy: 0.6254 - val_loss: 1.3160\n",
      "Epoch 52/100\n",
      "\u001b[1m226/226\u001b[0m \u001b[32m━━━━━━━━━━━━━━━━━━━━\u001b[0m\u001b[37m\u001b[0m \u001b[1m26s\u001b[0m 114ms/step - accuracy: 0.8562 - loss: 0.4056 - val_accuracy: 0.6235 - val_loss: 1.2853\n",
      "Epoch 53/100\n",
      "\u001b[1m226/226\u001b[0m \u001b[32m━━━━━━━━━━━━━━━━━━━━\u001b[0m\u001b[37m\u001b[0m \u001b[1m32s\u001b[0m 142ms/step - accuracy: 0.8558 - loss: 0.4006 - val_accuracy: 0.6207 - val_loss: 1.2941\n",
      "Epoch 54/100\n",
      "\u001b[1m226/226\u001b[0m \u001b[32m━━━━━━━━━━━━━━━━━━━━\u001b[0m\u001b[37m\u001b[0m \u001b[1m25s\u001b[0m 110ms/step - accuracy: 0.8530 - loss: 0.4046 - val_accuracy: 0.6226 - val_loss: 1.3268\n",
      "Epoch 55/100\n",
      "\u001b[1m226/226\u001b[0m \u001b[32m━━━━━━━━━━━━━━━━━━━━\u001b[0m\u001b[37m\u001b[0m \u001b[1m25s\u001b[0m 109ms/step - accuracy: 0.8526 - loss: 0.4061 - val_accuracy: 0.6220 - val_loss: 1.3060\n",
      "Epoch 56/100\n",
      "\u001b[1m226/226\u001b[0m \u001b[32m━━━━━━━━━━━━━━━━━━━━\u001b[0m\u001b[37m\u001b[0m \u001b[1m25s\u001b[0m 110ms/step - accuracy: 0.8569 - loss: 0.3996 - val_accuracy: 0.6291 - val_loss: 1.3040\n",
      "Epoch 57/100\n",
      "\u001b[1m226/226\u001b[0m \u001b[32m━━━━━━━━━━━━━━━━━━━━\u001b[0m\u001b[37m\u001b[0m \u001b[1m25s\u001b[0m 110ms/step - accuracy: 0.8552 - loss: 0.3976 - val_accuracy: 0.6237 - val_loss: 1.2775\n",
      "Epoch 58/100\n",
      "\u001b[1m226/226\u001b[0m \u001b[32m━━━━━━━━━━━━━━━━━━━━\u001b[0m\u001b[37m\u001b[0m \u001b[1m26s\u001b[0m 116ms/step - accuracy: 0.8529 - loss: 0.4117 - val_accuracy: 0.6245 - val_loss: 1.2703\n",
      "Epoch 59/100\n",
      "\u001b[1m226/226\u001b[0m \u001b[32m━━━━━━━━━━━━━━━━━━━━\u001b[0m\u001b[37m\u001b[0m \u001b[1m26s\u001b[0m 114ms/step - accuracy: 0.8533 - loss: 0.4079 - val_accuracy: 0.6292 - val_loss: 1.2707\n",
      "Epoch 60/100\n",
      "\u001b[1m226/226\u001b[0m \u001b[32m━━━━━━━━━━━━━━━━━━━━\u001b[0m\u001b[37m\u001b[0m \u001b[1m26s\u001b[0m 113ms/step - accuracy: 0.8554 - loss: 0.3936 - val_accuracy: 0.6240 - val_loss: 1.2820\n",
      "Epoch 61/100\n",
      "\u001b[1m226/226\u001b[0m \u001b[32m━━━━━━━━━━━━━━━━━━━━\u001b[0m\u001b[37m\u001b[0m \u001b[1m26s\u001b[0m 113ms/step - accuracy: 0.8626 - loss: 0.3855 - val_accuracy: 0.6244 - val_loss: 1.2785\n",
      "Epoch 62/100\n",
      "\u001b[1m226/226\u001b[0m \u001b[32m━━━━━━━━━━━━━━━━━━━━\u001b[0m\u001b[37m\u001b[0m \u001b[1m26s\u001b[0m 113ms/step - accuracy: 0.8563 - loss: 0.3999 - val_accuracy: 0.6230 - val_loss: 1.2736\n",
      "Epoch 63/100\n",
      "\u001b[1m226/226\u001b[0m \u001b[32m━━━━━━━━━━━━━━━━━━━━\u001b[0m\u001b[37m\u001b[0m \u001b[1m26s\u001b[0m 113ms/step - accuracy: 0.8563 - loss: 0.4014 - val_accuracy: 0.6254 - val_loss: 1.2983\n",
      "Epoch 64/100\n",
      "\u001b[1m226/226\u001b[0m \u001b[32m━━━━━━━━━━━━━━━━━━━━\u001b[0m\u001b[37m\u001b[0m \u001b[1m26s\u001b[0m 115ms/step - accuracy: 0.8599 - loss: 0.3915 - val_accuracy: 0.6271 - val_loss: 1.3115\n",
      "Epoch 65/100\n",
      "\u001b[1m226/226\u001b[0m \u001b[32m━━━━━━━━━━━━━━━━━━━━\u001b[0m\u001b[37m\u001b[0m \u001b[1m26s\u001b[0m 114ms/step - accuracy: 0.8621 - loss: 0.3866 - val_accuracy: 0.6289 - val_loss: 1.3016\n",
      "Epoch 66/100\n",
      "\u001b[1m226/226\u001b[0m \u001b[32m━━━━━━━━━━━━━━━━━━━━\u001b[0m\u001b[37m\u001b[0m \u001b[1m26s\u001b[0m 114ms/step - accuracy: 0.8582 - loss: 0.3837 - val_accuracy: 0.6265 - val_loss: 1.3043\n",
      "Epoch 67/100\n",
      "\u001b[1m226/226\u001b[0m \u001b[32m━━━━━━━━━━━━━━━━━━━━\u001b[0m\u001b[37m\u001b[0m \u001b[1m27s\u001b[0m 121ms/step - accuracy: 0.8634 - loss: 0.3841 - val_accuracy: 0.6275 - val_loss: 1.2836\n",
      "Epoch 68/100\n",
      "\u001b[1m226/226\u001b[0m \u001b[32m━━━━━━━━━━━━━━━━━━━━\u001b[0m\u001b[37m\u001b[0m \u001b[1m39s\u001b[0m 109ms/step - accuracy: 0.8620 - loss: 0.3871 - val_accuracy: 0.6261 - val_loss: 1.2719\n",
      "Epoch 69/100\n",
      "\u001b[1m226/226\u001b[0m \u001b[32m━━━━━━━━━━━━━━━━━━━━\u001b[0m\u001b[37m\u001b[0m \u001b[1m28s\u001b[0m 125ms/step - accuracy: 0.8593 - loss: 0.3957 - val_accuracy: 0.6284 - val_loss: 1.3098\n",
      "Epoch 70/100\n",
      "\u001b[1m226/226\u001b[0m \u001b[32m━━━━━━━━━━━━━━━━━━━━\u001b[0m\u001b[37m\u001b[0m \u001b[1m27s\u001b[0m 118ms/step - accuracy: 0.8632 - loss: 0.3841 - val_accuracy: 0.6216 - val_loss: 1.3150\n",
      "Epoch 71/100\n",
      "\u001b[1m226/226\u001b[0m \u001b[32m━━━━━━━━━━━━━━━━━━━━\u001b[0m\u001b[37m\u001b[0m \u001b[1m27s\u001b[0m 117ms/step - accuracy: 0.8634 - loss: 0.3770 - val_accuracy: 0.6220 - val_loss: 1.3054\n",
      "Epoch 72/100\n",
      "\u001b[1m226/226\u001b[0m \u001b[32m━━━━━━━━━━━━━━━━━━━━\u001b[0m\u001b[37m\u001b[0m \u001b[1m27s\u001b[0m 118ms/step - accuracy: 0.8584 - loss: 0.3938 - val_accuracy: 0.6267 - val_loss: 1.3042\n",
      "Epoch 73/100\n",
      "\u001b[1m226/226\u001b[0m \u001b[32m━━━━━━━━━━━━━━━━━━━━\u001b[0m\u001b[37m\u001b[0m \u001b[1m41s\u001b[0m 116ms/step - accuracy: 0.8614 - loss: 0.3893 - val_accuracy: 0.6296 - val_loss: 1.3348\n",
      "Epoch 74/100\n",
      "\u001b[1m226/226\u001b[0m \u001b[32m━━━━━━━━━━━━━━━━━━━━\u001b[0m\u001b[37m\u001b[0m \u001b[1m26s\u001b[0m 113ms/step - accuracy: 0.8586 - loss: 0.3995 - val_accuracy: 0.6268 - val_loss: 1.3134\n",
      "Epoch 75/100\n",
      "\u001b[1m226/226\u001b[0m \u001b[32m━━━━━━━━━━━━━━━━━━━━\u001b[0m\u001b[37m\u001b[0m \u001b[1m26s\u001b[0m 114ms/step - accuracy: 0.8633 - loss: 0.3724 - val_accuracy: 0.6291 - val_loss: 1.3552\n",
      "Epoch 76/100\n",
      "\u001b[1m226/226\u001b[0m \u001b[32m━━━━━━━━━━━━━━━━━━━━\u001b[0m\u001b[37m\u001b[0m \u001b[1m27s\u001b[0m 118ms/step - accuracy: 0.8613 - loss: 0.3892 - val_accuracy: 0.6267 - val_loss: 1.2830\n",
      "Epoch 77/100\n",
      "\u001b[1m226/226\u001b[0m \u001b[32m━━━━━━━━━━━━━━━━━━━━\u001b[0m\u001b[37m\u001b[0m \u001b[1m26s\u001b[0m 115ms/step - accuracy: 0.8642 - loss: 0.3776 - val_accuracy: 0.6271 - val_loss: 1.3218\n",
      "Epoch 78/100\n",
      "\u001b[1m226/226\u001b[0m \u001b[32m━━━━━━━━━━━━━━━━━━━━\u001b[0m\u001b[37m\u001b[0m \u001b[1m26s\u001b[0m 114ms/step - accuracy: 0.8635 - loss: 0.3866 - val_accuracy: 0.6245 - val_loss: 1.3287\n",
      "Epoch 79/100\n",
      "\u001b[1m226/226\u001b[0m \u001b[32m━━━━━━━━━━━━━━━━━━━━\u001b[0m\u001b[37m\u001b[0m \u001b[1m26s\u001b[0m 114ms/step - accuracy: 0.8590 - loss: 0.3943 - val_accuracy: 0.6292 - val_loss: 1.3058\n",
      "Epoch 80/100\n",
      "\u001b[1m226/226\u001b[0m \u001b[32m━━━━━━━━━━━━━━━━━━━━\u001b[0m\u001b[37m\u001b[0m \u001b[1m26s\u001b[0m 115ms/step - accuracy: 0.8660 - loss: 0.3747 - val_accuracy: 0.6228 - val_loss: 1.3196\n",
      "Epoch 81/100\n",
      "\u001b[1m226/226\u001b[0m \u001b[32m━━━━━━━━━━━━━━━━━━━━\u001b[0m\u001b[37m\u001b[0m \u001b[1m26s\u001b[0m 114ms/step - accuracy: 0.8645 - loss: 0.3819 - val_accuracy: 0.6243 - val_loss: 1.3366\n",
      "Epoch 82/100\n",
      "\u001b[1m226/226\u001b[0m \u001b[32m━━━━━━━━━━━━━━━━━━━━\u001b[0m\u001b[37m\u001b[0m \u001b[1m26s\u001b[0m 114ms/step - accuracy: 0.8613 - loss: 0.3813 - val_accuracy: 0.6265 - val_loss: 1.2980\n",
      "Epoch 83/100\n",
      "\u001b[1m226/226\u001b[0m \u001b[32m━━━━━━━━━━━━━━━━━━━━\u001b[0m\u001b[37m\u001b[0m \u001b[1m26s\u001b[0m 116ms/step - accuracy: 0.8643 - loss: 0.3729 - val_accuracy: 0.6279 - val_loss: 1.3293\n",
      "Epoch 84/100\n",
      "\u001b[1m226/226\u001b[0m \u001b[32m━━━━━━━━━━━━━━━━━━━━\u001b[0m\u001b[37m\u001b[0m \u001b[1m26s\u001b[0m 114ms/step - accuracy: 0.8640 - loss: 0.3832 - val_accuracy: 0.6230 - val_loss: 1.3221\n",
      "Epoch 85/100\n",
      "\u001b[1m226/226\u001b[0m \u001b[32m━━━━━━━━━━━━━━━━━━━━\u001b[0m\u001b[37m\u001b[0m \u001b[1m26s\u001b[0m 115ms/step - accuracy: 0.8633 - loss: 0.3811 - val_accuracy: 0.6228 - val_loss: 1.3290\n",
      "Epoch 86/100\n",
      "\u001b[1m226/226\u001b[0m \u001b[32m━━━━━━━━━━━━━━━━━━━━\u001b[0m\u001b[37m\u001b[0m \u001b[1m26s\u001b[0m 114ms/step - accuracy: 0.8620 - loss: 0.3806 - val_accuracy: 0.6230 - val_loss: 1.3303\n",
      "Epoch 87/100\n",
      "\u001b[1m226/226\u001b[0m \u001b[32m━━━━━━━━━━━━━━━━━━━━\u001b[0m\u001b[37m\u001b[0m \u001b[1m26s\u001b[0m 115ms/step - accuracy: 0.8665 - loss: 0.3725 - val_accuracy: 0.6226 - val_loss: 1.3190\n",
      "Epoch 88/100\n",
      "\u001b[1m226/226\u001b[0m \u001b[32m━━━━━━━━━━━━━━━━━━━━\u001b[0m\u001b[37m\u001b[0m \u001b[1m26s\u001b[0m 115ms/step - accuracy: 0.8700 - loss: 0.3691 - val_accuracy: 0.6257 - val_loss: 1.3122\n",
      "Epoch 89/100\n",
      "\u001b[1m226/226\u001b[0m \u001b[32m━━━━━━━━━━━━━━━━━━━━\u001b[0m\u001b[37m\u001b[0m \u001b[1m26s\u001b[0m 115ms/step - accuracy: 0.8628 - loss: 0.3729 - val_accuracy: 0.6301 - val_loss: 1.3129\n",
      "Epoch 90/100\n",
      "\u001b[1m226/226\u001b[0m \u001b[32m━━━━━━━━━━━━━━━━━━━━\u001b[0m\u001b[37m\u001b[0m \u001b[1m26s\u001b[0m 115ms/step - accuracy: 0.8721 - loss: 0.3633 - val_accuracy: 0.6233 - val_loss: 1.3047\n",
      "Epoch 91/100\n",
      "\u001b[1m226/226\u001b[0m \u001b[32m━━━━━━━━━━━━━━━━━━━━\u001b[0m\u001b[37m\u001b[0m \u001b[1m26s\u001b[0m 116ms/step - accuracy: 0.8693 - loss: 0.3581 - val_accuracy: 0.6250 - val_loss: 1.3116\n",
      "Epoch 92/100\n",
      "\u001b[1m226/226\u001b[0m \u001b[32m━━━━━━━━━━━━━━━━━━━━\u001b[0m\u001b[37m\u001b[0m \u001b[1m27s\u001b[0m 121ms/step - accuracy: 0.8696 - loss: 0.3688 - val_accuracy: 0.6279 - val_loss: 1.2946\n",
      "Epoch 93/100\n",
      "\u001b[1m226/226\u001b[0m \u001b[32m━━━━━━━━━━━━━━━━━━━━\u001b[0m\u001b[37m\u001b[0m \u001b[1m27s\u001b[0m 119ms/step - accuracy: 0.8680 - loss: 0.3678 - val_accuracy: 0.6296 - val_loss: 1.2900\n",
      "Epoch 94/100\n",
      "\u001b[1m226/226\u001b[0m \u001b[32m━━━━━━━━━━━━━━━━━━━━\u001b[0m\u001b[37m\u001b[0m \u001b[1m27s\u001b[0m 118ms/step - accuracy: 0.8665 - loss: 0.3706 - val_accuracy: 0.6258 - val_loss: 1.3464\n",
      "Epoch 95/100\n",
      "\u001b[1m226/226\u001b[0m \u001b[32m━━━━━━━━━━━━━━━━━━━━\u001b[0m\u001b[37m\u001b[0m \u001b[1m26s\u001b[0m 116ms/step - accuracy: 0.8710 - loss: 0.3568 - val_accuracy: 0.6248 - val_loss: 1.3063\n",
      "Epoch 96/100\n",
      "\u001b[1m226/226\u001b[0m \u001b[32m━━━━━━━━━━━━━━━━━━━━\u001b[0m\u001b[37m\u001b[0m \u001b[1m27s\u001b[0m 119ms/step - accuracy: 0.8647 - loss: 0.3723 - val_accuracy: 0.6241 - val_loss: 1.3468\n",
      "Epoch 97/100\n",
      "\u001b[1m226/226\u001b[0m \u001b[32m━━━━━━━━━━━━━━━━━━━━\u001b[0m\u001b[37m\u001b[0m \u001b[1m27s\u001b[0m 117ms/step - accuracy: 0.8634 - loss: 0.3692 - val_accuracy: 0.6240 - val_loss: 1.2910\n",
      "Epoch 98/100\n",
      "\u001b[1m226/226\u001b[0m \u001b[32m━━━━━━━━━━━━━━━━━━━━\u001b[0m\u001b[37m\u001b[0m \u001b[1m27s\u001b[0m 117ms/step - accuracy: 0.8669 - loss: 0.3732 - val_accuracy: 0.6279 - val_loss: 1.3030\n",
      "Epoch 99/100\n",
      "\u001b[1m226/226\u001b[0m \u001b[32m━━━━━━━━━━━━━━━━━━━━\u001b[0m\u001b[37m\u001b[0m \u001b[1m27s\u001b[0m 118ms/step - accuracy: 0.8689 - loss: 0.3631 - val_accuracy: 0.6228 - val_loss: 1.3376\n",
      "Epoch 100/100\n",
      "\u001b[1m226/226\u001b[0m \u001b[32m━━━━━━━━━━━━━━━━━━━━\u001b[0m\u001b[37m\u001b[0m \u001b[1m27s\u001b[0m 118ms/step - accuracy: 0.8670 - loss: 0.3677 - val_accuracy: 0.6203 - val_loss: 1.2983\n"
     ]
    }
   ],
   "source": [
    "history = model.fit(x_train, y_train, batch_size=128, epochs=100, validation_data=(x_test, y_test))"
   ]
  },
  {
   "cell_type": "code",
   "execution_count": 58,
   "id": "a7d3dfc1-1433-41f9-a074-24c1e6bd6a69",
   "metadata": {},
   "outputs": [
    {
     "name": "stdout",
     "output_type": "stream",
     "text": [
      "\u001b[1m221/221\u001b[0m \u001b[32m━━━━━━━━━━━━━━━━━━━━\u001b[0m\u001b[37m\u001b[0m \u001b[1m3s\u001b[0m 13ms/step - accuracy: 0.5796 - loss: 1.4375\n",
      "Test Loss: 1.2983388900756836\n",
      "Test Accuracy: 0.6202943921089172\n"
     ]
    }
   ],
   "source": [
    "loss, accuracy = model.evaluate(x_test, y_test)\n",
    "print(\"Test Loss:\", loss)\n",
    "print(\"Test Accuracy:\", accuracy)"
   ]
  },
  {
   "cell_type": "code",
   "execution_count": 19,
   "id": "f6237f86-eb1b-41c7-8295-26863056b18c",
   "metadata": {},
   "outputs": [
    {
     "name": "stderr",
     "output_type": "stream",
     "text": [
      "WARNING:absl:You are saving your model as an HDF5 file via `model.save()` or `keras.saving.save_model(model)`. This file format is considered legacy. We recommend using instead the native Keras format, e.g. `model.save('my_model.keras')` or `keras.saving.save_model(model, 'my_model.keras')`. \n"
     ]
    }
   ],
   "source": [
    "model.save(\"emotion_detector_model24.h5\")"
   ]
  },
  {
   "cell_type": "code",
   "execution_count": 20,
   "id": "5bd6d09b-0ee6-4075-891c-03bc23b87ff3",
   "metadata": {},
   "outputs": [
    {
     "name": "stderr",
     "output_type": "stream",
     "text": [
      "WARNING:absl:Compiled the loaded model, but the compiled metrics have yet to be built. `model.compile_metrics` will be empty until you train or evaluate the model.\n"
     ]
    }
   ],
   "source": [
    "from tensorflow.keras.models import load_model\n",
    "loaded_model = load_model(\"emotion_detector_model24.h5\")"
   ]
  },
  {
   "cell_type": "code",
   "execution_count": 21,
   "id": "7333a77a-a203-4bd3-90ed-16c0d5dedbb8",
   "metadata": {},
   "outputs": [],
   "source": [
    "label = ['angry', 'disgust', 'fear', 'happy', 'neutral', 'sad', 'surprise']"
   ]
  },
  {
   "cell_type": "code",
   "execution_count": 22,
   "id": "9a986561-949f-45e4-9920-66f11473381e",
   "metadata": {},
   "outputs": [],
   "source": [
    "# user_image_path = 'images/train/angry/22.jpg'\n",
    "# predicted_emotion = predict_emotion(loaded_model, user_image_path)\n",
    "# print(\"Predicted Emotion:\", predicted_emotion)"
   ]
  },
  {
   "cell_type": "code",
   "execution_count": 23,
   "id": "587c1f71-84d9-4e07-b87b-6c9de5760865",
   "metadata": {},
   "outputs": [],
   "source": [
    "def ef(image):\n",
    "    img = load_img(image, color_mode='grayscale', target_size=(48, 48))\n",
    "    feature = img_to_array(img)\n",
    "    feature = feature.reshape(1, 48, 48, 1)\n",
    "    return feature / 255.0\n"
   ]
  },
  {
   "cell_type": "code",
   "execution_count": 24,
   "id": "0b612d84-5acb-475d-ab68-2df59db6f862",
   "metadata": {},
   "outputs": [
    {
     "name": "stdout",
     "output_type": "stream",
     "text": [
      "original image is of angry\n",
      "\u001b[1m1/1\u001b[0m \u001b[32m━━━━━━━━━━━━━━━━━━━━\u001b[0m\u001b[37m\u001b[0m \u001b[1m0s\u001b[0m 43ms/step\n",
      "model prediction is  happy\n"
     ]
    }
   ],
   "source": [
    "image = 'images/train/angry/22.jpg'\n",
    "print(\"original image is of angry\")\n",
    "img = ef(image)\n",
    "pred = model.predict(img)\n",
    "pred_label = label[pred.argmax()]\n",
    "print(\"model prediction is \", pred_label)"
   ]
  },
  {
   "cell_type": "code",
   "execution_count": 25,
   "id": "57c86f4b-b608-478b-a348-11b1afab7d3b",
   "metadata": {},
   "outputs": [],
   "source": [
    "import matplotlib.pyplot as plt\n",
    "%matplotlib inline"
   ]
  },
  {
   "cell_type": "code",
   "execution_count": 26,
   "id": "a2f592d3-e9b9-41aa-ad87-eb39a5702f72",
   "metadata": {},
   "outputs": [
    {
     "name": "stdout",
     "output_type": "stream",
     "text": [
      "original image is of angry\n",
      "\u001b[1m1/1\u001b[0m \u001b[32m━━━━━━━━━━━━━━━━━━━━\u001b[0m\u001b[37m\u001b[0m \u001b[1m0s\u001b[0m 41ms/step\n",
      "model prediction is  happy\n"
     ]
    },
    {
     "data": {
      "text/plain": [
       "<matplotlib.image.AxesImage at 0x13b49885cd0>"
      ]
     },
     "execution_count": 26,
     "metadata": {},
     "output_type": "execute_result"
    },
    {
     "data": {
      "image/png": "[encoded data removed]",
      "text/plain": [
       "<Figure size 640x480 with 1 Axes>"
      ]
     },
     "metadata": {},
     "output_type": "display_data"
    }
   ],
   "source": [
    "image = 'images/train/angry/10.jpg'\n",
    "print(\"original image is of angry\")\n",
    "img = ef(image)\n",
    "pred = model.predict(img)\n",
    "pred_label = label[pred.argmax()]\n",
    "print(\"model prediction is \", pred_label)\n",
    "plt.imshow(img.reshape(48,48), cmap='gray')"
   ]
  },
  {
   "cell_type": "code",
   "execution_count": 20,
   "id": "82e56361-5008-4d96-ad41-b7151bfe26b4",
   "metadata": {},
   "outputs": [
    {
     "name": "stdout",
     "output_type": "stream",
     "text": [
      "original image is of disgust\n",
      "\u001b[1m1/1\u001b[0m \u001b[32m━━━━━━━━━━━━━━━━━━━━\u001b[0m\u001b[37m\u001b[0m \u001b[1m0s\u001b[0m 117ms/step\n",
      "model prediction is  disgust\n"
     ]
    },
    {
     "data": {
      "text/plain": [
       "<matplotlib.image.AxesImage at 0x1819551d690>"
      ]
     },
     "execution_count": 20,
     "metadata": {},
     "output_type": "execute_result"
    },
    {
     "data": {
      "image/png": "[encoded data removed]",
      "text/plain": [
       "<Figure size 640x480 with 1 Axes>"
      ]
     },
     "metadata": {},
     "output_type": "display_data"
    }
   ],
   "source": [
    "image = 'images/train/disgust/826.jpg'\n",
    "print(\"original image is of disgust\")\n",
    "img = ef(image)\n",
    "pred = model.predict(img)\n",
    "pred_label = label[pred.argmax()]\n",
    "print(\"model prediction is \", pred_label)\n",
    "plt.imshow(img.reshape(48,48), cmap='gray')"
   ]
  },
  {
   "cell_type": "code",
   "execution_count": 24,
   "id": "510845c0-4638-4121-9911-a97a380ffcae",
   "metadata": {},
   "outputs": [],
   "source": []
  },
  {
   "cell_type": "code",
   "execution_count": null,
   "id": "2873606b-897c-43d4-9e8c-8290155179b4",
   "metadata": {},
   "outputs": [],
   "source": []
  }
 ],
 "metadata": {
  "kernelspec": {
   "display_name": "Python 3 (ipykernel)",
   "language": "python",
   "name": "python3"
  },
  "language_info": {
   "codemirror_mode": {
    "name": "ipython",
    "version": 3
   },
   "file_extension": ".py",
   "mimetype": "text/x-python",
   "name": "python",
   "nbconvert_exporter": "python",
   "pygments_lexer": "ipython3",
   "version": "3.11.2"
  }
 },
 "nbformat": 4,
 "nbformat_minor": 5
}
